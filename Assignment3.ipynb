{
 "cells": [
  {
   "cell_type": "markdown",
   "id": "07dbd74f-0291-4a06-a75d-4f9a8db26099",
   "metadata": {},
   "source": [
    "(10 points) Write a function that does the following:\n",
    "1. takes a matrix A as an input\n",
    "2. returns the reduced row echelon form of the matrix. (Remember to test your program with\n",
    "corner cases.)\n",
    "Your electronic submission should include a copy of your program, together with the output for the\n",
    "following input matrix\n",
    "\n",
    "01234 A=0 0 5 0 0\n",
    "00000\n",
    "Remark:You may work together in groups of 2 on your code. If so, each of you should submit the assignment for grading, together with the statement ”Worked with <name> on this programming assignment.”"
   ]
  },
  {
   "cell_type": "code",
   "execution_count": 78,
   "id": "0270efa6-103d-4b60-b389-1d871d3cd77a",
   "metadata": {},
   "outputs": [],
   "source": [
    "def reducedref(matrix):\n",
    "    import numpy as np \n",
    "    matrix = np.array([[0,1,2,3,4],[0,0,5,0,0],[0,0,0,0,0]]) #assigned matrix \n",
    "    r,c = matrix.shape #labeling the matrix dimensions  \n",
    "    i= 0 #making counter \n",
    "    print(matrix) #printing initial matrix\n",
    "    for j in range(c): # looking at the columns \n",
    "        if i >= r: #comparing counter and where it breaks to examine the kill\n",
    "            break \n",
    "        big = np.argmax(np.abs(matrix[i:,j])) + i # finds value & index of largest entry \n",
    "        if matrix[big, j] == 0: #we want to continue on to the nexrt column even though there is a zero \n",
    "            continue \n",
    "        matrix[[i,big]] = matrix[[big,i]] #switching rows \n",
    "        pivot_value = matrix[i,j] #labeling pivot \n",
    "        matrix[i] = matrix[i] / pivot_value #divide the pivot row i by the pivot value to replace row \n",
    "        for k in range(r): # looking at the row \n",
    "            if k == i or matrix[k,j] == 0: # skipping the situations that have placements with 0's \n",
    "                continue\n",
    "            value = matrix[k,j] # giving variable to value of number in position \n",
    "            matrix[k] = matrix[k] - value * matrix[i] #preforming -k/p to create 0's\n",
    "        i = i + 1 #couter\n",
    "    return matrix #prints reduced row echelon form matrix "
   ]
  },
  {
   "cell_type": "code",
   "execution_count": 79,
   "id": "50d2edea-05fa-4a3d-921b-2524a1b0a65f",
   "metadata": {},
   "outputs": [
    {
     "name": "stdout",
     "output_type": "stream",
     "text": [
      "[[0 1 2 3 4]\n",
      " [0 0 5 0 0]\n",
      " [0 0 0 0 0]]\n"
     ]
    },
    {
     "data": {
      "text/plain": [
       "array([[0, 1, 0, 3, 4],\n",
       "       [0, 0, 1, 0, 0],\n",
       "       [0, 0, 0, 0, 0]])"
      ]
     },
     "execution_count": 79,
     "metadata": {},
     "output_type": "execute_result"
    }
   ],
   "source": [
    "reducedref(matrix) #the matrix changes and now is in reduced row echelon form "
   ]
  },
  {
   "cell_type": "markdown",
   "id": "e9a16a29-00c8-450d-a153-422747a798be",
   "metadata": {},
   "source": [
    " Worked with Rachel Pedro on this programming assignment.\n"
   ]
  }
 ],
 "metadata": {
  "kernelspec": {
   "display_name": "Python 3 (ipykernel)",
   "language": "python",
   "name": "python3"
  },
  "language_info": {
   "codemirror_mode": {
    "name": "ipython",
    "version": 3
   },
   "file_extension": ".py",
   "mimetype": "text/x-python",
   "name": "python",
   "nbconvert_exporter": "python",
   "pygments_lexer": "ipython3",
   "version": "3.9.12"
  }
 },
 "nbformat": 4,
 "nbformat_minor": 5
}
