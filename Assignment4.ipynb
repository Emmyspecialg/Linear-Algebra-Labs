{
 "cells": [
  {
   "cell_type": "markdown",
   "id": "07dbd74f-0291-4a06-a75d-4f9a8db26099",
   "metadata": {},
   "source": [
    "(10 points) Write a function that does the following:\n",
    "1. takes a matrix A as an input\n",
    "2. returns the reduced row echelon form of the matrix. (Remember to test your program with\n",
    "corner cases.)\n",
    "Your electronic submission should include a copy of your program, together with the output for the\n",
    "following input matrix\n",
    "\n",
    "01234 A=0 0 5 0 0\n",
    "00000\n",
    "Remark:You may work together in groups of 2 on your code. If so, each of you should submit the assignment for grading, together with the statement ”Worked with Rachel Pedro on this programming assignment.”"
   ]
  },
  {
   "cell_type": "code",
   "execution_count": 123,
   "id": "0270efa6-103d-4b60-b389-1d871d3cd77a",
   "metadata": {},
   "outputs": [],
   "source": [
    "A= np.array([[0,0,0,0,0],[0,0,0,-1,2],[0,2,0,4,2]])\n",
    "import numpy as np \n",
    "def reducedref(A):\n",
    "    r,c = A.shape #labeling the matrix dimensions  \n",
    "    i= 0 #making counter\n",
    "    pivotindex=[] #empty matrix for pivot index\n",
    "    print(A)\n",
    "    for j in range(c): # looking at the columns \n",
    "        if i >= r: #comparing counter and where it breaks to examine the kil\n",
    "            break \n",
    "        kill = np.argmax(np.abs(A[i:,j])) + i # finds k (the number we want to kill) \n",
    "        if A[kill, j] == 0: #we want to continue even though there is a zero \n",
    "            continue \n",
    "        A[[i,kill]] = A[[kill,i]] #switching rows \n",
    "        pivot_value = A[i,j] #labeling pivot \n",
    "        A[i] = A[i] / pivot_value #divide the pivot row i by the pivot value \n",
    "        for k in range(r): # looking at the row \n",
    "            if k == i or A[k,j] == 0: # skipping the placements with 0's \n",
    "                continue\n",
    "            value = A[k,j] # giving variable to value of number in position \n",
    "            A[k] = A[k] - value * A[i] #preforming -k/p to create 0's\n",
    "        i = i + 1 #couter\n",
    "    pivotindex.append(np.where(A==1)) #appends pivot index  \n",
    "    return A, pivotindex #prints reduced row echelon form matrix and pivots  "
   ]
  },
  {
   "cell_type": "code",
   "execution_count": 124,
   "id": "84c06647-bf73-49d7-a31e-434275b322c0",
   "metadata": {},
   "outputs": [
    {
     "name": "stdout",
     "output_type": "stream",
     "text": [
      "[[ 0  0  0  0  0]\n",
      " [ 0  0  0 -1  2]\n",
      " [ 0  2  0  4  2]]\n"
     ]
    },
    {
     "data": {
      "text/plain": [
       "(array([[ 0,  1,  0,  0,  5],\n",
       "        [ 0,  0,  0,  1, -2],\n",
       "        [ 0,  0,  0,  0,  0]]),\n",
       " [(array([0, 1]), array([1, 3]))])"
      ]
     },
     "execution_count": 124,
     "metadata": {},
     "output_type": "execute_result"
    }
   ],
   "source": [
    "reducedref(A)"
   ]
  }
 ],
 "metadata": {
  "kernelspec": {
   "display_name": "Python 3 (ipykernel)",
   "language": "python",
   "name": "python3"
  },
  "language_info": {
   "codemirror_mode": {
    "name": "ipython",
    "version": 3
   },
   "file_extension": ".py",
   "mimetype": "text/x-python",
   "name": "python",
   "nbconvert_exporter": "python",
   "pygments_lexer": "ipython3",
   "version": "3.9.12"
  }
 },
 "nbformat": 4,
 "nbformat_minor": 5
}
