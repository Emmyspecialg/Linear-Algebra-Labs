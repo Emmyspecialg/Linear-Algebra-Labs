{
 "cells": [
  {
   "cell_type": "markdown",
   "id": "f8b04a1b-d198-404c-9e46-d0ee967e69ae",
   "metadata": {},
   "source": [
    "Homework 1: "
   ]
  },
  {
   "cell_type": "markdown",
   "id": "fea6bed9-8df9-4e8d-83b3-86c3e762a00c",
   "metadata": {},
   "source": [
    "1. Write a function that does the following: 1. takes a matrix A and an integer k as inputs computes Ak = AA . . . A (the product of k matrices A) if the matrix is square, i.e., has the same number of rows and colums, and computes the transpose of A otherwise 3. returns the result of the computation"
   ]
  },
  {
   "cell_type": "code",
   "execution_count": 5,
   "id": "5004acd9-0cf2-43ae-9d22-7cf4dcb62756",
   "metadata": {},
   "outputs": [],
   "source": [
    "import numpy as np \n",
    "import random"
   ]
  },
  {
   "cell_type": "code",
   "execution_count": 22,
   "id": "46a3f82e-bd30-4965-90d9-25fe9844714c",
   "metadata": {},
   "outputs": [
    {
     "name": "stdout",
     "output_type": "stream",
     "text": [
      "[[ 7  3  0  2 10]\n",
      " [ 3  4  7  7 10]]\n"
     ]
    }
   ],
   "source": [
    "#random number generator that powers a random matrix \n",
    "def my_func1(k): \n",
    "    a= random.randint(0,9)\n",
    "    b= random.randint(0,9)\n",
    "    c=random.randint(0,9)\n",
    "    d=random.randint(0,9)\n",
    "    e= random.randint(0,9)\n",
    "    f=random.randint(0,9)\n",
    "    g=random.randint(0,9)\n",
    "    h=random.randint(0,9)\n",
    "    i=random.randint(0,9)\n",
    "    j=random.randint(0,9)\n",
    "    \n",
    "    A = np.array([[a, b, c, d, e], [f, g, h, i, j]])\n",
    "    \n",
    "    ans = A^k\n",
    "    print(ans)\n",
    "    \n",
    "my_func1(3)"
   ]
  },
  {
   "cell_type": "code",
   "execution_count": 50,
   "id": "c68957d6-fe62-4b45-a1e9-d9626e795403",
   "metadata": {},
   "outputs": [],
   "source": [
    "\n",
    "E = np.array([[1, 3, 5, 7, 9], [2, 4, 6, 8, 10]])\n",
    "\n",
    "K = np.array([[1, 2, 3, 4, 5], [5, 4, 3, 2, 1]])"
   ]
  },
  {
   "cell_type": "code",
   "execution_count": 59,
   "id": "5ee6d9f4-86a1-4cd3-95bd-e79f7d9334c6",
   "metadata": {},
   "outputs": [
    {
     "data": {
      "text/plain": [
       "array([[11, 23, 35, 47, 59],\n",
       "       [10, 22, 34, 46, 58],\n",
       "       [ 9, 21, 33, 45, 57],\n",
       "       [ 8, 20, 32, 44, 56],\n",
       "       [ 7, 19, 31, 43, 55]])"
      ]
     },
     "execution_count": 59,
     "metadata": {},
     "output_type": "execute_result"
    }
   ],
   "source": [
    "#transpose if the dimensions doesnt work out \n",
    "np.matmul(K.T,E)"
   ]
  },
  {
   "cell_type": "code",
   "execution_count": 57,
   "id": "9c2e5dc7-e103-453f-be37-980c17dc89ae",
   "metadata": {},
   "outputs": [
    {
     "data": {
      "text/plain": [
       "array([[ 1,  3,  5,  7,  9],\n",
       "       [ 2,  4,  6,  8, 10]])"
      ]
     },
     "execution_count": 57,
     "metadata": {},
     "output_type": "execute_result"
    }
   ],
   "source": [
    "E"
   ]
  },
  {
   "cell_type": "code",
   "execution_count": 49,
   "id": "0889d6a3-343c-47f5-96a5-4074c0ed14ff",
   "metadata": {},
   "outputs": [],
   "source": [
    "#matrix power passing in random matrix and power\n",
    "a=random.randint(0,9)\n",
    "b=random.randint(0,9)\n",
    "c=random.randint(0,9)\n",
    "d=random.randint(0,9)\n",
    "e=random.randint(0,9)\n",
    "f=random.randint(0,9)\n",
    "g=random.randint(0,9)\n",
    "h=random.randint(0,9)\n",
    "i=random.randint(0,9)\n",
    "j=random.randint(0,9)\n",
    "    \n",
    "A = np.array([[a, b, c, d, e], [f, g, h, i, j]])\n",
    "    \n",
    "def matrixpower(A,k): \n",
    "    \n",
    "    ans = A^k\n",
    "    print(ans)"
   ]
  },
  {
   "cell_type": "code",
   "execution_count": 51,
   "id": "cde04607-82da-4271-af90-9f4b02b85bae",
   "metadata": {},
   "outputs": [
    {
     "name": "stdout",
     "output_type": "stream",
     "text": [
      "[[4 5 6 3 3]\n",
      " [3 7 4 1 1]]\n"
     ]
    }
   ],
   "source": [
    "matrixpower(A, 3)"
   ]
  },
  {
   "cell_type": "markdown",
   "id": "c1fc125c-e66d-42d5-bf1a-ab0398daae13",
   "metadata": {},
   "source": [
    "2. Why is AB != BA in general? Check your answer with the following matrix pairs:\n",
    "A1andA2, A3andA4, A3andA5"
   ]
  },
  {
   "cell_type": "code",
   "execution_count": 6,
   "id": "5aebcf4e-d4fd-41ac-b9c6-1780b92f1f5f",
   "metadata": {},
   "outputs": [],
   "source": [
    "#matrix multiplication\n",
    "m1 = np.array([[1, 2],[3, 4]])\n",
    "m2 = np.array([[1, 1],[-1, 1]])\n",
    "m3 = np.array([[1, 1, 1], [-1, 2, 1]])\n",
    "m4 = np.array([[1, 1], [2, 1], [1, -1]])\n",
    "m5 = np.array([[1, 1], [2, 1]]) "
   ]
  },
  {
   "cell_type": "code",
   "execution_count": 45,
   "id": "aed66cca-9af7-465f-92f7-f47f30f53945",
   "metadata": {},
   "outputs": [],
   "source": [
    "def matrixmult(a,b):\n",
    "    if len(m1[0]) != len(m2):\n",
    "        return([])\n",
    "    else: \n",
    "        return np.matmul(m1,m2)      "
   ]
  },
  {
   "cell_type": "code",
   "execution_count": 32,
   "id": "b868232d-e354-41b5-843b-e04877927cca",
   "metadata": {},
   "outputs": [
    {
     "data": {
      "text/plain": [
       "array([[-1,  3],\n",
       "       [-1,  7]])"
      ]
     },
     "execution_count": 32,
     "metadata": {},
     "output_type": "execute_result"
    }
   ],
   "source": [
    "#its a square matrix which works --- multiplying m1m2, m2m1 different outcomes \n",
    "np.matmul(m1,m2)"
   ]
  },
  {
   "cell_type": "code",
   "execution_count": 33,
   "id": "02efdf0f-9b6f-4194-b871-86667740e2ed",
   "metadata": {},
   "outputs": [
    {
     "data": {
      "text/plain": [
       "array([[4, 6],\n",
       "       [2, 2]])"
      ]
     },
     "execution_count": 33,
     "metadata": {},
     "output_type": "execute_result"
    }
   ],
   "source": [
    "np.matmul(m2,m1)"
   ]
  },
  {
   "cell_type": "code",
   "execution_count": 38,
   "id": "846f91a9-fe91-4e58-91ec-ae401b6a4922",
   "metadata": {},
   "outputs": [
    {
     "data": {
      "text/plain": [
       "array([[ 0,  3,  2],\n",
       "       [ 1,  4,  3],\n",
       "       [ 2, -1,  0]])"
      ]
     },
     "execution_count": 38,
     "metadata": {},
     "output_type": "execute_result"
    }
   ],
   "source": [
    "np.matmul(m4,m3) "
   ]
  },
  {
   "cell_type": "code",
   "execution_count": 39,
   "id": "f31d81d2-6f5b-40be-8377-52f7c8374fdc",
   "metadata": {},
   "outputs": [
    {
     "data": {
      "text/plain": [
       "array([[4, 1],\n",
       "       [4, 0]])"
      ]
     },
     "execution_count": 39,
     "metadata": {},
     "output_type": "execute_result"
    }
   ],
   "source": [
    "np.matmul(m3,m4)"
   ]
  },
  {
   "cell_type": "code",
   "execution_count": 43,
   "id": "d53d5617-17c7-4087-92cb-10111e78aed1",
   "metadata": {},
   "outputs": [],
   "source": [
    "#np.matmul(m3,m5) -- doesnt work, 2 diff sizes, use traspose "
   ]
  },
  {
   "cell_type": "code",
   "execution_count": 62,
   "id": "1fee7ea6-dda8-47f4-aa37-9539b9cbbe7a",
   "metadata": {},
   "outputs": [
    {
     "data": {
      "text/plain": [
       "array([[-1,  0],\n",
       "       [ 5,  3],\n",
       "       [ 3,  2]])"
      ]
     },
     "execution_count": 62,
     "metadata": {},
     "output_type": "execute_result"
    }
   ],
   "source": [
    "np.matmul(m3.T,m5)"
   ]
  },
  {
   "cell_type": "code",
   "execution_count": 44,
   "id": "7a8041ea-61af-4b23-b757-fb360fca8701",
   "metadata": {},
   "outputs": [
    {
     "data": {
      "text/plain": [
       "array([[0, 3, 2],\n",
       "       [1, 4, 3]])"
      ]
     },
     "execution_count": 44,
     "metadata": {},
     "output_type": "execute_result"
    }
   ],
   "source": [
    "np.matmul(m5,m3)"
   ]
  },
  {
   "cell_type": "code",
   "execution_count": null,
   "id": "91ad0108-2937-4dc9-bc77-110ff323992c",
   "metadata": {},
   "outputs": [],
   "source": []
  }
 ],
 "metadata": {
  "kernelspec": {
   "display_name": "Python 3 (ipykernel)",
   "language": "python",
   "name": "python3"
  },
  "language_info": {
   "codemirror_mode": {
    "name": "ipython",
    "version": 3
   },
   "file_extension": ".py",
   "mimetype": "text/x-python",
   "name": "python",
   "nbconvert_exporter": "python",
   "pygments_lexer": "ipython3",
   "version": "3.9.12"
  }
 },
 "nbformat": 4,
 "nbformat_minor": 5
}
